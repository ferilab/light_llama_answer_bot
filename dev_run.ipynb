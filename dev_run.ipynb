{
 "cells": [
  {
   "cell_type": "code",
   "execution_count": null,
   "id": "3d2bf277-0096-4042-a379-122a434bcfce",
   "metadata": {},
   "outputs": [],
   "source": []
  },
  {
   "cell_type": "code",
   "execution_count": 8,
   "id": "a928a829-bc3b-4acb-be56-db60bd0e022f",
   "metadata": {},
   "outputs": [],
   "source": [
    "\n",
    "import streamlit as st\n",
    "from transcriber import transcribe_audio\n",
    "from model_inference import generate_answer\n",
    "\n",
    "st.title(\"🎙️ Light Answering Bot\")\n",
    "input_mode = st.radio(\"Choose input method:\", [\"Text\", \"Audio\"])\n",
    "\n",
    "if input_mode == \"Text\":\n",
    "    question = st.text_area(\"Enter your question or request:\")\n",
    "elif input_mode == \"Audio\":\n",
    "    uploaded_file = st.file_uploader(\"Upload audio file (wav/mp3)\", type=[\"wav\", \"mp3\"])\n",
    "    if uploaded_file is not None:\n",
    "        question = transcribe_audio(uploaded_file)\n",
    "        st.markdown(f\"**Transcribed Question:** {question}\")\n",
    "    else:\n",
    "        question = \"\"\n",
    "\n",
    "if st.button(\"Get Answer\") and question.strip():\n",
    "    with st.spinner(\"Generating answer...\"):\n",
    "        answer = generate_answer(question)\n",
    "        st.success(\"Answer ready!\")\n",
    "        st.markdown(f\"**Answer:** {answer}\")\n"
   ]
  },
  {
   "cell_type": "code",
   "execution_count": null,
   "id": "84bd72bf-b169-4d45-81a4-0da53ca6bf6f",
   "metadata": {},
   "outputs": [],
   "source": []
  },
  {
   "cell_type": "code",
   "execution_count": null,
   "id": "cbb4cc93-bd68-45a9-84dc-7d9542a0ce48",
   "metadata": {},
   "outputs": [],
   "source": []
  },
  {
   "cell_type": "code",
   "execution_count": null,
   "id": "23c15f0f-2407-43b8-b0b8-44a38e61ec24",
   "metadata": {},
   "outputs": [],
   "source": []
  }
 ],
 "metadata": {
  "kernelspec": {
   "display_name": "llama_ans_bot_env",
   "language": "python",
   "name": "llama_ans_bot_env"
  },
  "language_info": {
   "codemirror_mode": {
    "name": "ipython",
    "version": 3
   },
   "file_extension": ".py",
   "mimetype": "text/x-python",
   "name": "python",
   "nbconvert_exporter": "python",
   "pygments_lexer": "ipython3",
   "version": "3.11.7"
  }
 },
 "nbformat": 4,
 "nbformat_minor": 5
}
